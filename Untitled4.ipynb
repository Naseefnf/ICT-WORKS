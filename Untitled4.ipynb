{
  "nbformat": 4,
  "nbformat_minor": 0,
  "metadata": {
    "colab": {
      "provenance": [],
      "authorship_tag": "ABX9TyNtbzODMQ8jDA2Ug3lidVrn",
      "include_colab_link": true
    },
    "kernelspec": {
      "name": "python3",
      "display_name": "Python 3"
    },
    "language_info": {
      "name": "python"
    }
  },
  "cells": [
    {
      "cell_type": "markdown",
      "metadata": {
        "id": "view-in-github",
        "colab_type": "text"
      },
      "source": [
        "<a href=\"https://colab.research.google.com/github/Naseefnf/ICT-WORKS/blob/main/Untitled4.ipynb\" target=\"_parent\"><img src=\"https://colab.research.google.com/assets/colab-badge.svg\" alt=\"Open In Colab\"/></a>"
      ]
    },
    {
      "cell_type": "code",
      "execution_count": 1,
      "metadata": {
        "colab": {
          "base_uri": "https://localhost:8080/"
        },
        "id": "_x9r6B6z6ZjV",
        "outputId": "8f3a82cd-54cf-43d1-cd97-8bcf81747116"
      },
      "outputs": [
        {
          "output_type": "stream",
          "name": "stdout",
          "text": [
            "Enter the text you want to summarize: Machine learning has given the computer systems the abilities to automatically learn without being explicitly programmed. But how does a machine learning system work? So, it can be described using the life cycle of machine learning. Machine learning life cycle is a cyclic process to build an efficient machine learning project. The main purpose of the life cycle is to find a solution to the problem or project.\n",
            "Enter the desired word count for the summary: 50\n",
            "Summary:\n",
            "But how does a machine learning system work? So, it can be described using the life cycle of machine learning\n"
          ]
        }
      ],
      "source": [
        "def summarize_text(text, word_count):\n",
        "    sentences = text.split('.')\n",
        "    sentences = [sentence.strip() for sentence in sentences if sentence.strip()]\n",
        "    word_counts = [len(sentence.split()) for sentence in sentences]\n",
        "    sorted_sentences = sorted(zip(sentences, word_counts), key=lambda x: x[1], reverse=True)\n",
        "    summary = []\n",
        "    current_word_count = 0\n",
        "    for sentence, word_count in sorted_sentences:\n",
        "        if current_word_count + word_count <= word_count:\n",
        "            summary.append(sentence)\n",
        "            current_word_count += word_count\n",
        "        else:\n",
        "            break\n",
        "    summary = '. '.join(summary)\n",
        "    return summary\n",
        "\n",
        "# Get user input for the text and word count\n",
        "text = input(\"Enter the text you want to summarize: \")\n",
        "word_count = int(input(\"Enter the desired word count for the summary: \"))\n",
        "\n",
        "# Call the function to summarize the text\n",
        "summary = summarize_text(text, word_count)\n",
        "print(\"Summary:\")\n",
        "print(summary)"
      ]
    }
  ]
}